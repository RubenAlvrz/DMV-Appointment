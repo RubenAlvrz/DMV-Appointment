{
  "nbformat": 4,
  "nbformat_minor": 0,
  "metadata": {
    "colab": {
      "name": "Notebook.ipynb",
      "provenance": [],
      "collapsed_sections": []
    },
    "kernelspec": {
      "name": "python3",
      "display_name": "Python 3"
    },
    "language_info": {
      "name": "python"
    }
  },
  "cells": [
    {
      "cell_type": "code",
      "execution_count": 18,
      "metadata": {
        "id": "yVOdRG8CQyAb"
      },
      "outputs": [],
      "source": [
        "import pandas as pd\n",
        "import json\n",
        "import itertools\n",
        "import numpy as np\n",
        "\n",
        "def Customer_File():\n",
        "  \n",
        "  input_file = open('/content/CustomerData.json')\n",
        "  json_array = json.load(input_file)\n",
        "\n",
        "  id       = []\n",
        "  type_    = []\n",
        "  duration = []\n",
        "\n",
        "  for i in json_array['Customer']:\n",
        "    id.append(i['Id'])\n",
        "    type_.append(i['type'])\n",
        "    duration.append(i['duration'])\n",
        "\n",
        "    customer = [(a, b, c) for (a, b, c) in itertools.zip_longest(\n",
        "        id, type_, duration)]\n",
        "\n",
        "  return customer\n",
        "\n",
        "\n",
        "def Teller_File():\n",
        "\n",
        "  input_file = open('/content/TellerData.json')\n",
        "  json_array = json.load(input_file)\n",
        "  \n",
        "  teller_id     = []\n",
        "  specialtyType = []\n",
        "  multiplier    = []\n",
        "\n",
        "  for i in json_array['Teller']:\n",
        "    teller_id.append(i['ID'])\n",
        "    specialtyType.append(i['SpecialtyType'])\n",
        "    multiplier.append(i['Multiplier'])\n",
        "\n",
        "    teller = [(a, b, c) for (a, b, c) in itertools.zip_longest(\n",
        "        teller_id, specialtyType, multiplier)]\n",
        "\n",
        "  return teller\n"
      ]
    },
    {
      "cell_type": "code",
      "source": [
        "a = Customer_File()\n",
        "\n",
        "b = Teller_File()\n",
        "\n"
      ],
      "metadata": {
        "id": "_YBCJFQKaMCU"
      },
      "execution_count": 19,
      "outputs": []
    },
    {
      "cell_type": "code",
      "source": [
        "customer = pd.DataFrame(a, columns=['id','type','duration'])\n",
        "\n",
        "customer.info()\n"
      ],
      "metadata": {
        "id": "KrciIDBRJgkr",
        "colab": {
          "base_uri": "https://localhost:8080/"
        },
        "outputId": "950928bc-c398-49f1-87e8-a3b1a5287884"
      },
      "execution_count": 21,
      "outputs": [
        {
          "output_type": "stream",
          "name": "stdout",
          "text": [
            "<class 'pandas.core.frame.DataFrame'>\n",
            "RangeIndex: 5000 entries, 0 to 4999\n",
            "Data columns (total 3 columns):\n",
            " #   Column    Non-Null Count  Dtype \n",
            "---  ------    --------------  ----- \n",
            " 0   id        5000 non-null   object\n",
            " 1   type      5000 non-null   object\n",
            " 2   duration  5000 non-null   object\n",
            "dtypes: object(3)\n",
            "memory usage: 117.3+ KB\n"
          ]
        }
      ]
    },
    {
      "cell_type": "code",
      "source": [
        "for i in customer.columns:\n",
        "\n",
        "  unique_val = np.unique(customer[i])\n",
        "\n",
        "  count_val = len(unique_val)\n",
        "\n",
        "  if count_val < 10:\n",
        "    print('The number of unique values for {} -- {} : {}'.format(i,count_val, unique_val))\n",
        "\n",
        "  else: \n",
        "    print('The number of  unique values for {}:{}'.format(i,count_val))\n",
        "\n"
      ],
      "metadata": {
        "colab": {
          "base_uri": "https://localhost:8080/"
        },
        "id": "PLPWoiF38sGj",
        "outputId": "8e55208b-9814-471a-94b2-608b7e5d0ee4"
      },
      "execution_count": 22,
      "outputs": [
        {
          "output_type": "stream",
          "name": "stdout",
          "text": [
            "The number of  unique values for id:5000\n",
            "The number of unique values for type -- 4 : ['1' '2' '3' '4']\n",
            "The number of unique values for duration -- 6 : ['10' '15' '20' '30' '45' '5']\n"
          ]
        }
      ]
    },
    {
      "cell_type": "code",
      "source": [
        "teller = pd.DataFrame(b, columns=['ID','SpecialtyType','Multiplier'])\n",
        "\n",
        "teller.info()"
      ],
      "metadata": {
        "colab": {
          "base_uri": "https://localhost:8080/"
        },
        "id": "XnpGXND_BcOj",
        "outputId": "490b2392-8fc1-400c-a371-01a474cebf7b"
      },
      "execution_count": 23,
      "outputs": [
        {
          "output_type": "stream",
          "name": "stdout",
          "text": [
            "<class 'pandas.core.frame.DataFrame'>\n",
            "RangeIndex: 149 entries, 0 to 148\n",
            "Data columns (total 3 columns):\n",
            " #   Column         Non-Null Count  Dtype \n",
            "---  ------         --------------  ----- \n",
            " 0   ID             149 non-null    object\n",
            " 1   SpecialtyType  149 non-null    object\n",
            " 2   Multiplier     149 non-null    object\n",
            "dtypes: object(3)\n",
            "memory usage: 3.6+ KB\n"
          ]
        }
      ]
    },
    {
      "cell_type": "code",
      "source": [
        "for i in teller.columns:\n",
        "\n",
        "  unique_val = np.unique(teller[i])\n",
        "\n",
        "  count_val = len(unique_val)\n",
        "\n",
        "  if count_val < 10:\n",
        "    print('The number of unique values for {} -- {} : {}'.format(i,count_val, unique_val))\n",
        "\n",
        "  else: \n",
        "    print('The number of unique values for {}:{}'.format(i,count_val))"
      ],
      "metadata": {
        "colab": {
          "base_uri": "https://localhost:8080/"
        },
        "id": "-OCSMLnn9M40",
        "outputId": "6bc395ae-71dc-4117-ffed-fc6c460fdb30"
      },
      "execution_count": 24,
      "outputs": [
        {
          "output_type": "stream",
          "name": "stdout",
          "text": [
            "The number of unique values for ID:149\n",
            "The number of unique values for SpecialtyType -- 4 : ['0' '1' '2' '3']\n",
            "The number of unique values for Multiplier -- 5 : ['0.5' '0.75' '0.8' '0.9' '1']\n"
          ]
        }
      ]
    },
    {
      "cell_type": "code",
      "source": [
        "import seaborn as sns\n",
        "\n",
        "sns.countplot(data = teller, x = teller['SpecialtyType'], hue = 'Multiplier')"
      ],
      "metadata": {
        "colab": {
          "base_uri": "https://localhost:8080/",
          "height": 296
        },
        "id": "BmNK9zKHRDNp",
        "outputId": "d60cb200-df77-498c-c491-8668c8048084"
      },
      "execution_count": 45,
      "outputs": [
        {
          "output_type": "execute_result",
          "data": {
            "text/plain": [
              "<matplotlib.axes._subplots.AxesSubplot at 0x7fccc6138850>"
            ]
          },
          "metadata": {},
          "execution_count": 45
        },
        {
          "output_type": "display_data",
          "data": {
            "text/plain": [
              "<Figure size 432x288 with 1 Axes>"
            ],
            "image/png": "[encoded data removed]"
          },
          "metadata": {
            "needs_background": "light"
          }
        }
      ]
    },
    {
      "cell_type": "code",
      "source": [
        "sns.countplot(data = customer, x = customer['type'])"
      ],
      "metadata": {
        "id": "rYev6kUQV7NZ"
      },
      "execution_count": null,
      "outputs": []
    },
    {
      "cell_type": "code",
      "source": [
        "sns.countplot(data = teller, x = teller['SpecialtyType'],hue = teller['Multiplier'])"
      ],
      "metadata": {
        "colab": {
          "base_uri": "https://localhost:8080/",
          "height": 296
        },
        "id": "FgS9Y_ISDsRr",
        "outputId": "b61e3f48-00b8-4c78-95d1-414ad99f52dc"
      },
      "execution_count": 26,
      "outputs": [
        {
          "output_type": "execute_result",
          "data": {
            "text/plain": [
              "<matplotlib.axes._subplots.AxesSubplot at 0x7fccd54ce090>"
            ]
          },
          "metadata": {},
          "execution_count": 26
        },
        {
          "output_type": "display_data",
          "data": {
            "text/plain": [
              "<Figure size 432x288 with 1 Axes>"
            ],
            "image/png": "[encoded data removed]"
          },
          "metadata": {
            "needs_background": "light"
          }
        }
      ]
    },
    {
      "cell_type": "code",
      "source": [
        "sns.countplot(data = customer, x = customer['type'],hue = customer['duration'])"
      ],
      "metadata": {
        "colab": {
          "base_uri": "https://localhost:8080/",
          "height": 296
        },
        "id": "lKftdAzFDsbF",
        "outputId": "d716ac60-2a24-4b02-fabe-6f5716d012ec"
      },
      "execution_count": 27,
      "outputs": [
        {
          "output_type": "execute_result",
          "data": {
            "text/plain": [
              "<matplotlib.axes._subplots.AxesSubplot at 0x7fccc60c9850>"
            ]
          },
          "metadata": {},
          "execution_count": 27
        },
        {
          "output_type": "display_data",
          "data": {
            "text/plain": [
              "<Figure size 432x288 with 1 Axes>"
            ],
            "image/png": "[encoded data removed]"
          },
          "metadata": {
            "needs_background": "light"
          }
        }
      ]
    },
    {
      "cell_type": "code",
      "source": [
        "def group_tellertype(df: pd.DataFrame): \n",
        "\n",
        "    tellerStype1 = []\n",
        "    tellerStype2 = []\n",
        "    tellerStype3 = []\n",
        "    tellerStype0 = []\n",
        "\n",
        "    for id, val, mul in df.itertuples(index=False):\n",
        "\n",
        "        if val == '1':\n",
        "\n",
        "            tellerStype1.append((id,mul))\n",
        "\n",
        "        if val == '2':\n",
        "            tellerStype2.append((id,mul))\n",
        "\n",
        "        if val == '3':\n",
        "            tellerStype3.append((id,mul))\n",
        "\n",
        "        if val == '0':\n",
        "            tellerStype0.append((id,mul))\n",
        "    \n",
        "    return tellerStype1,tellerStype2,tellerStype3,tellerStype0"
      ],
      "metadata": {
        "id": "ncioRnJFD2Lv"
      },
      "execution_count": 29,
      "outputs": []
    },
    {
      "cell_type": "code",
      "source": [
        "tellerStype1, tellerStype2 ,tellerStype3 ,tellerStype0 = group_tellertype(teller)"
      ],
      "metadata": {
        "id": "Ca17bZ7fD5IF"
      },
      "execution_count": 30,
      "outputs": []
    },
    {
      "cell_type": "code",
      "source": [
        "print(len(tellerStype1))\n",
        "\n",
        "print(len(tellerStype2))\n",
        "\n",
        "print(len(tellerStype3))\n",
        "\n",
        "print(len(tellerStype0))"
      ],
      "metadata": {
        "colab": {
          "base_uri": "https://localhost:8080/"
        },
        "id": "eOXMULFkvixc",
        "outputId": "41b773ce-56c2-46c4-bb22-3526ffd745ee"
      },
      "execution_count": 46,
      "outputs": [
        {
          "output_type": "stream",
          "name": "stdout",
          "text": [
            "29\n",
            "50\n",
            "50\n",
            "20\n"
          ]
        }
      ]
    },
    {
      "cell_type": "code",
      "source": [
        "print(len(customer))\n",
        "\n",
        "print(len(tellerStype1))"
      ],
      "metadata": {
        "colab": {
          "base_uri": "https://localhost:8080/"
        },
        "id": "xPu7K_51OwYI",
        "outputId": "90dbfa0b-9a95-47a9-9587-097b65fc1d36"
      },
      "execution_count": 33,
      "outputs": [
        {
          "output_type": "stream",
          "name": "stdout",
          "text": [
            "5000\n",
            "29\n"
          ]
        }
      ]
    },
    {
      "cell_type": "code",
      "source": [
        "\n",
        "\n",
        "\n",
        "appointment_type1 = []\n",
        "appointment_type2 = []\n",
        "appointment_type3 = []\n",
        "appointment_type4 = []\n",
        "\n",
        "h = 0\n",
        "x = 0 \n",
        "y = 0\n",
        "n = 0 \n",
        "\n",
        "if h < int(len(list(customer))):\n",
        "  for id, val, dur in customer.itertuples(index=False):\n",
        "    if val == '1':\n",
        "      appointment_type1.append((tellerStype1[h],id,dur))\n",
        "      h+=1\n",
        "    if h==len(tellerStype1) :\n",
        "      h=0\n",
        "\n",
        "if x < int(len(list(customer))):\n",
        "  for id, val, dur in customer.itertuples(index=False):\n",
        "    if val == '2':\n",
        "      appointment_type2.append((tellerStype2[x],id,dur))\n",
        "      x+=1\n",
        "    if x==len(tellerStype2) :\n",
        "      x=0\n",
        "\n",
        "if y < int(len(list(customer))):\n",
        "  for id, val, dur in customer.itertuples(index=False):\n",
        "\n",
        "    if val == '3':\n",
        "      appointment_type3.append((tellerStype3[y],id,dur))\n",
        "      y+=1\n",
        "    if y==len(tellerStype3) :\n",
        "      y=0\n",
        "\n",
        "if n < int(len(list(customer))):\n",
        "  for id, val, dur in customer.itertuples(index=False):\n",
        "\n",
        "    if val == '4':\n",
        "      appointment_type4.append((tellerStype0[n],id,dur))\n",
        "      n+=1\n",
        "    if n==len(tellerStype0) :\n",
        "      n=0\n",
        "\n",
        "all_appointments = []\n",
        "\n",
        "all_appointments.extend(appointment_type1)\n",
        "all_appointments.extend(appointment_type2)\n",
        "all_appointments.extend(appointment_type3)\n",
        "all_appointments.extend(appointment_type4)\n",
        "\n"
      ],
      "metadata": {
        "id": "22cqg2DsSXeB"
      },
      "execution_count": 35,
      "outputs": []
    },
    {
      "cell_type": "code",
      "source": [
        "\n",
        "print(len(all_appointments))"
      ],
      "metadata": {
        "colab": {
          "base_uri": "https://localhost:8080/"
        },
        "id": "73-SVXxE0zRP",
        "outputId": "d3177e4c-b6c7-4fb3-8f0a-2ebd2a20283e"
      },
      "execution_count": 36,
      "outputs": [
        {
          "output_type": "stream",
          "name": "stdout",
          "text": [
            "5000\n"
          ]
        }
      ]
    },
    {
      "cell_type": "code",
      "source": [
        "teller.to_csv('Test.csv')"
      ],
      "metadata": {
        "id": "6iO5LCb-zRmu"
      },
      "execution_count": 37,
      "outputs": []
    },
    {
      "cell_type": "code",
      "source": [
        "\n",
        "\n",
        "df = pd.DataFrame(all_appointments, columns = ['t', 'customer_id', 'duration'])\n",
        "\n",
        "df['teller_id'], df['multiplier'] = zip(*df.t)\n",
        "\n",
        "df[[\"multiplier\", \"duration\"]] = df[[\"multiplier\", \"duration\"]].apply(pd.to_numeric)\n",
        "\n",
        "df1 = df.drop(columns= 't')\n",
        "\n",
        "df1['total_time'] = df1['duration'] * df1['multiplier']\n",
        "\n",
        "df_group = df1.groupby('teller_id')['total_time'].agg(['sum','count']).reset_index().rename(columns = {\"sum\": \"total_time\", \"count\": \"total_customers\"})\n"
      ],
      "metadata": {
        "id": "kcj-_03sUQ8Y"
      },
      "execution_count": 38,
      "outputs": []
    },
    {
      "cell_type": "code",
      "source": [
        "df1 = df.drop(columns= 't')\n",
        "\n",
        "df1.dtypes"
      ],
      "metadata": {
        "colab": {
          "base_uri": "https://localhost:8080/"
        },
        "id": "-P1wo5VUitKj",
        "outputId": "11cb1d72-bb66-4eb2-af2b-8924cef38177"
      },
      "execution_count": 39,
      "outputs": [
        {
          "output_type": "execute_result",
          "data": {
            "text/plain": [
              "customer_id     object\n",
              "duration         int64\n",
              "teller_id       object\n",
              "multiplier     float64\n",
              "dtype: object"
            ]
          },
          "metadata": {},
          "execution_count": 39
        }
      ]
    },
    {
      "cell_type": "code",
      "source": [
        "df1['total_time'] = df1['duration'] * df1['multiplier']\n"
      ],
      "metadata": {
        "id": "JX5HASPijwsV"
      },
      "execution_count": 40,
      "outputs": []
    },
    {
      "cell_type": "code",
      "source": [
        "df_group = df1.groupby('teller_id')['total_time'].agg(['sum','count']).reset_index().rename(columns = {\"sum\": \"total_time\", \"count\": \"total_customers\"})\n",
        "\n",
        "\n"
      ],
      "metadata": {
        "id": "in7LRgRojw48"
      },
      "execution_count": 41,
      "outputs": []
    },
    {
      "cell_type": "code",
      "source": [
        "print('The total max time is {} and min time {}'.format(df_group.total_time.max(), df_group.total_time.min()))\n",
        "\n",
        "print('The total max customers assigned is {} and min {}'.format(df_group.total_customers.max(),df_group.total_customers.min()))\n",
        "\n",
        "print('The total avg total time is {} and the avg total customer per teller {}'.format(df_group.total_time.mean(),df_group.total_customers.mean()))"
      ],
      "metadata": {
        "colab": {
          "base_uri": "https://localhost:8080/"
        },
        "id": "qITkfh9QjxBE",
        "outputId": "085f0a2c-44bd-4ef2-a318-96a0b9333c17"
      },
      "execution_count": 53,
      "outputs": [
        {
          "output_type": "stream",
          "name": "stdout",
          "text": [
            "The total max time is 963.75 and min time 116.0\n",
            "The total max customers assigned is 89 and min 18\n",
            "The total avg total time is 471.9748322147651 and the avg total customer per teller 33.557046979865774\n"
          ]
        }
      ]
    },
    {
      "cell_type": "code",
      "source": [
        ""
      ],
      "metadata": {
        "id": "-RMcsvHRW0gP"
      },
      "execution_count": null,
      "outputs": []
    }
  ]
}